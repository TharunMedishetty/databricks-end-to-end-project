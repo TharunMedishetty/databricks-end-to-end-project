{
 "cells": [
  {
   "cell_type": "code",
   "execution_count": 0,
   "metadata": {
    "application/vnd.databricks.v1+cell": {
     "cellMetadata": {
      "byteLimit": 2048000,
      "rowLimit": 10000
     },
     "inputWidgets": {},
     "nuid": "fe218bc0-29e5-4117-b565-9a1af959ab89",
     "showTitle": true,
     "tableResultSettingsMap": {},
     "title": "Import Libraries"
    }
   },
   "outputs": [],
   "source": []
  },
  {
   "cell_type": "markdown",
   "metadata": {
    "application/vnd.databricks.v1+cell": {
     "cellMetadata": {},
     "inputWidgets": {},
     "nuid": "75fbfbb7-8987-47eb-8779-601d8ca424de",
     "showTitle": false,
     "tableResultSettingsMap": {},
     "title": ""
    }
   },
   "source": [
    "#### Dynamic Capabilities"
   ]
  },
  {
   "cell_type": "markdown",
   "metadata": {
    "application/vnd.databricks.v1+cell": {
     "cellMetadata": {},
     "inputWidgets": {},
     "nuid": "3e1e2e8b-e126-4279-8cfe-0d02399972a6",
     "showTitle": false,
     "tableResultSettingsMap": {},
     "title": ""
    }
   },
   "source": []
  },
  {
   "cell_type": "code",
   "execution_count": 0,
   "metadata": {
    "application/vnd.databricks.v1+cell": {
     "cellMetadata": {
      "byteLimit": 2048000,
      "rowLimit": 10000
     },
     "inputWidgets": {},
     "nuid": "44f631fa-0677-4d64-9a05-4f601e8926bc",
     "showTitle": true,
     "tableResultSettingsMap": {},
     "title": "Declaring Widgets"
    }
   },
   "outputs": [],
   "source": [
    "# We will use widgets to make our notebook more interactive and dynamic. Now, we can process the data from different files to bronze layer\n",
    "dbutils.widgets.text(\"file_name\", \"bronze\")\n",
    "p_file_name = dbutils.widgets.get(\"file_name\")\n",
    "print(p_file_name)"
   ]
  },
  {
   "cell_type": "markdown",
   "metadata": {
    "application/vnd.databricks.v1+cell": {
     "cellMetadata": {},
     "inputWidgets": {},
     "nuid": "5b33cecc-4989-41cf-bca3-4bf08f155cc7",
     "showTitle": false,
     "tableResultSettingsMap": {},
     "title": ""
    }
   },
   "source": [
    "#### Data Reading"
   ]
  },
  {
   "cell_type": "code",
   "execution_count": 0,
   "metadata": {
    "application/vnd.databricks.v1+cell": {
     "cellMetadata": {
      "byteLimit": 2048000,
      "rowLimit": 10000
     },
     "inputWidgets": {},
     "nuid": "fd35133a-7d35-420e-850b-b4cdc4c401e7",
     "showTitle": false,
     "tableResultSettingsMap": {},
     "title": ""
    }
   },
   "outputs": [],
   "source": [
    "# to read data from ADLS gen2 in batch load\n",
    "df = spark.read.parquet(\"abfss://source@dldatabricks.dfs.core.windows.net/customers\")\n",
    "# display(df)"
   ]
  },
  {
   "cell_type": "code",
   "execution_count": 0,
   "metadata": {
    "application/vnd.databricks.v1+cell": {
     "cellMetadata": {
      "byteLimit": 2048000,
      "rowLimit": 10000
     },
     "inputWidgets": {},
     "nuid": "3fabb517-c619-4d91-86d8-38dfdfeba426",
     "showTitle": false,
     "tableResultSettingsMap": {},
     "title": ""
    }
   },
   "outputs": [],
   "source": [
    "# Reading data as a stream using Autloader\n",
    "## schemaLocation and checkpointLocation has to be match\n",
    "df = spark.readStream.format(\"cloudFiles\")  \\\n",
    "            .option(\"cloudFiles.format\", \"parquet\") \\\n",
    "            .option(\"cloudFiles.schemaLocation\", f\"abfss://bronze@dldatabricks.dfs.core.windows.net/checkpoint_{p_file_name}\") \\\n",
    "            .load(f\"abfss://source@dldatabricks.dfs.core.windows.net/{p_file_name}\")\n"
   ]
  },
  {
   "cell_type": "markdown",
   "metadata": {
    "application/vnd.databricks.v1+cell": {
     "cellMetadata": {},
     "inputWidgets": {},
     "nuid": "d334d16d-85da-4712-8bf9-42e5f56439b1",
     "showTitle": false,
     "tableResultSettingsMap": {},
     "title": ""
    }
   },
   "source": [
    "#### Data Writing"
   ]
  },
  {
   "cell_type": "code",
   "execution_count": 0,
   "metadata": {
    "application/vnd.databricks.v1+cell": {
     "cellMetadata": {
      "byteLimit": 2048000,
      "rowLimit": 10000
     },
     "inputWidgets": {},
     "nuid": "1a9152da-4a2c-4adc-8768-9ae876d8961b",
     "showTitle": false,
     "tableResultSettingsMap": {},
     "title": ""
    }
   },
   "outputs": [],
   "source": [
    "# Writing the stream data\n",
    "## schemaLocation and checkpointLocation has to be match\n",
    "### trigger(once = True) is used to read the data once and write it to the sink and if we want make it continuous we can remove the trigger option\n",
    "df.writeStream.format(\"parquet\")\\\n",
    "    .option(\"mergeSchema\", \"true\") \\\n",
    "    .outputMode(\"append\")\\\n",
    "    .option(\"checkpointLocation\", f\"abfss://bronze@dldatabricks.dfs.core.windows.net/checkpoint_{p_file_name}\") \\\n",
    "    .option(\"path\", f\"abfss://bronze@dldatabricks.dfs.core.windows.net/{p_file_name}\")\\\n",
    "    .trigger(once = True) \\\n",
    "    .start()"
   ]
  },
  {
   "cell_type": "code",
   "execution_count": 0,
   "metadata": {
    "application/vnd.databricks.v1+cell": {
     "cellMetadata": {
      "byteLimit": 2048000,
      "rowLimit": 10000
     },
     "inputWidgets": {},
     "nuid": "22a33b10-94dc-445d-b893-12ba3dd230b5",
     "showTitle": false,
     "tableResultSettingsMap": {},
     "title": ""
    }
   },
   "outputs": [],
   "source": []
  }
 ],
 "metadata": {
  "application/vnd.databricks.v1+notebook": {
   "computePreferences": null,
   "dashboards": [],
   "environmentMetadata": {
    "base_environment": "",
    "environment_version": "2"
   },
   "inputWidgetPreferences": null,
   "language": "python",
   "notebookMetadata": {
    "pythonIndentUnit": 4
   },
   "notebookName": "bronze_layer_ingestion",
   "widgets": {
    "file_name": {
     "currentValue": "customers",
     "nuid": "6dd73139-7459-425f-ad7a-9d0f9a63a896",
     "typedWidgetInfo": {
      "autoCreated": false,
      "defaultValue": "bronze",
      "label": null,
      "name": "file_name",
      "options": {
       "widgetDisplayType": "Text",
       "validationRegex": null
      },
      "parameterDataType": "String"
     },
     "widgetInfo": {
      "widgetType": "text",
      "defaultValue": "bronze",
      "label": null,
      "name": "file_name",
      "options": {
       "widgetType": "text",
       "autoCreated": null,
       "validationRegex": null
      }
     }
    }
   }
  },
  "language_info": {
   "name": "python"
  }
 },
 "nbformat": 4,
 "nbformat_minor": 0
}
