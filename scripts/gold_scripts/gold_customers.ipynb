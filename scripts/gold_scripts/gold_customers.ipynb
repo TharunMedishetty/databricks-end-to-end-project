{
 "cells": [
  {
   "cell_type": "markdown",
   "metadata": {
    "application/vnd.databricks.v1+cell": {
     "cellMetadata": {
      "byteLimit": 2048000,
      "rowLimit": 10000
     },
     "inputWidgets": {},
     "nuid": "160fea1b-3dfc-42eb-b7ab-b480aec8daef",
     "showTitle": false,
     "tableResultSettingsMap": {},
     "title": ""
    }
   },
   "source": [
    "#### Importing Librarries"
   ]
  },
  {
   "cell_type": "code",
   "execution_count": 0,
   "metadata": {
    "application/vnd.databricks.v1+cell": {
     "cellMetadata": {
      "byteLimit": 2048000,
      "rowLimit": 10000
     },
     "inputWidgets": {},
     "nuid": "4f2c3f3e-50fa-4aea-870c-b2b810cd8321",
     "showTitle": false,
     "tableResultSettingsMap": {},
     "title": ""
    }
   },
   "outputs": [],
   "source": [
    "from pyspark.sql.functions import *\n",
    "from pyspark.sql.types import *"
   ]
  },
  {
   "cell_type": "code",
   "execution_count": 0,
   "metadata": {
    "application/vnd.databricks.v1+cell": {
     "cellMetadata": {
      "byteLimit": 2048000,
      "implicitDf": true,
      "rowLimit": 10000
     },
     "inputWidgets": {},
     "nuid": "f08a4f5f-ba16-45b9-a4e4-d48a001124d2",
     "showTitle": false,
     "tableResultSettingsMap": {},
     "title": ""
    }
   },
   "outputs": [],
   "source": [
    "%sql\n",
    "CREATE SCHEMA IF NOT EXISTS databricks_catalog.gold"
   ]
  },
  {
   "cell_type": "markdown",
   "metadata": {
    "application/vnd.databricks.v1+cell": {
     "cellMetadata": {
      "byteLimit": 2048000,
      "rowLimit": 10000
     },
     "inputWidgets": {},
     "nuid": "8fd74ab8-731c-4996-9ec8-c202fe78e5a8",
     "showTitle": false,
     "tableResultSettingsMap": {},
     "title": ""
    }
   },
   "source": [
    "#### **Initial Load Flag Handling:**\n",
    "\n",
    "The initial_load_flag should be set to 1 (TRUE) during the first ingestion of the data to indicate an initial load. Once the initial data load is successfully completed, this flag must be updated to 0 (FALSE) to reflect that subsequent ingestions are part of incremental or regular data loads. This logic should be consistently applied across both development and production environments to maintain uniformity in pipeline behavior."
   ]
  },
  {
   "cell_type": "code",
   "execution_count": 0,
   "metadata": {
    "application/vnd.databricks.v1+cell": {
     "cellMetadata": {
      "byteLimit": 2048000,
      "rowLimit": 10000
     },
     "inputWidgets": {},
     "nuid": "7a1a8ffe-8d6b-4a4c-9d11-dfed41458050",
     "showTitle": false,
     "tableResultSettingsMap": {},
     "title": ""
    }
   },
   "outputs": [],
   "source": [
    "initial_load_flag_value = int(dbutils.widgets.get('initial_load_flag'))"
   ]
  },
  {
   "cell_type": "markdown",
   "metadata": {
    "application/vnd.databricks.v1+cell": {
     "cellMetadata": {
      "byteLimit": 2048000,
      "rowLimit": 10000
     },
     "inputWidgets": {},
     "nuid": "34dae5a7-7e36-4ce1-9025-e9903cc828bf",
     "showTitle": false,
     "tableResultSettingsMap": {},
     "title": ""
    }
   },
   "source": [
    "#### Data Reading From Silver"
   ]
  },
  {
   "cell_type": "code",
   "execution_count": 0,
   "metadata": {
    "application/vnd.databricks.v1+cell": {
     "cellMetadata": {
      "byteLimit": 2048000,
      "rowLimit": 10000
     },
     "inputWidgets": {},
     "nuid": "093eaaef-bf81-4fb8-8769-8657d3c83abe",
     "showTitle": false,
     "tableResultSettingsMap": {},
     "title": ""
    }
   },
   "outputs": [],
   "source": [
    "df_customers = spark.read.table(\"databricks_catalog.silver.ext_silver_customers\")\n",
    "# df_customers = spark.sql(\" SELECT * FROM databricks_catalog.silver.ext_silver_customers\")"
   ]
  },
  {
   "cell_type": "code",
   "execution_count": 0,
   "metadata": {
    "application/vnd.databricks.v1+cell": {
     "cellMetadata": {
      "byteLimit": 2048000,
      "implicitDf": true,
      "rowLimit": 10000
     },
     "inputWidgets": {},
     "nuid": "6ea08aac-acda-439c-a9ca-5ad1388b8a8e",
     "showTitle": false,
     "tableResultSettingsMap": {},
     "title": ""
    }
   },
   "outputs": [],
   "source": [
    "df_customers.display()"
   ]
  },
  {
   "cell_type": "markdown",
   "metadata": {
    "application/vnd.databricks.v1+cell": {
     "cellMetadata": {
      "byteLimit": 2048000,
      "rowLimit": 10000
     },
     "inputWidgets": {},
     "nuid": "3f1cae72-0442-4282-a82b-cabf3ad5def0",
     "showTitle": false,
     "tableResultSettingsMap": {},
     "title": ""
    }
   },
   "source": [
    "#### Remove Duplicates in Primary Key"
   ]
  },
  {
   "cell_type": "code",
   "execution_count": 0,
   "metadata": {
    "application/vnd.databricks.v1+cell": {
     "cellMetadata": {
      "byteLimit": 2048000,
      "rowLimit": 10000
     },
     "inputWidgets": {},
     "nuid": "935ca937-3b80-4a7b-9e4d-3a5517c878b5",
     "showTitle": false,
     "tableResultSettingsMap": {},
     "title": ""
    }
   },
   "outputs": [],
   "source": [
    "df_customers = df_customers.dropDuplicates(subset=['customer_id'])"
   ]
  },
  {
   "cell_type": "markdown",
   "metadata": {
    "application/vnd.databricks.v1+cell": {
     "cellMetadata": {
      "byteLimit": 2048000,
      "rowLimit": 10000
     },
     "inputWidgets": {},
     "nuid": "f78dac93-57c4-4ce9-bbe6-b7eb2f63cd99",
     "showTitle": false,
     "tableResultSettingsMap": {},
     "title": ""
    }
   },
   "source": [
    "## Dividing New Vs Old Records"
   ]
  },
  {
   "cell_type": "code",
   "execution_count": 0,
   "metadata": {
    "application/vnd.databricks.v1+cell": {
     "cellMetadata": {
      "byteLimit": 2048000,
      "rowLimit": 10000
     },
     "inputWidgets": {},
     "nuid": "2dc02ff8-2d93-4a92-ac74-6aa29d9df4ca",
     "showTitle": false,
     "tableResultSettingsMap": {},
     "title": ""
    }
   },
   "outputs": [],
   "source": [
    "# If initial_load_flag_value set to FALSE. It means, we are assuming that we already having the data in the table\n",
    "if initial_load_flag_value == 0: \n",
    "    df_old = spark.sql(''' SELECT DimCustomerKey, customer_id, created_date, updated_date FROM databricks_catalog.gold.DimCustomers ''')\n",
    "\n",
    "\n",
    "# If initial_load_flag_value set to TRUE. It means, we doesn't have any(\"DimCustomers\") existing table in the \"gold\", so we need to create a pseudo(dummy) table for the old table.\n",
    "else:\n",
    "    df_old = spark.sql(''' SELECT 0 AS DimCustomerKey, 0 AS customer_id, 0 AS created_date, 0 AS updated_date FROM databricks_catalog.silver.ext_silver_customers WHERE 1=0 ''')  # This will give only columns with empty table"
   ]
  },
  {
   "cell_type": "code",
   "execution_count": 0,
   "metadata": {
    "application/vnd.databricks.v1+cell": {
     "cellMetadata": {
      "byteLimit": 2048000,
      "rowLimit": 10000
     },
     "inputWidgets": {},
     "nuid": "f7b6df50-273d-4fc7-b40a-ccf584b3e9d0",
     "showTitle": false,
     "tableResultSettingsMap": {},
     "title": ""
    }
   },
   "outputs": [],
   "source": [
    "df_old.display()"
   ]
  },
  {
   "cell_type": "markdown",
   "metadata": {
    "application/vnd.databricks.v1+cell": {
     "cellMetadata": {
      "byteLimit": 2048000,
      "rowLimit": 10000
     },
     "inputWidgets": {},
     "nuid": "a35f6466-2557-4f6a-a8c6-dc623e0b01bf",
     "showTitle": false,
     "tableResultSettingsMap": {},
     "title": ""
    }
   },
   "source": [
    "#### Renaming Columns for df_old\n",
    "\n",
    "we need to rename the add the suffix as old for df_old column to seggregate it from new records"
   ]
  },
  {
   "cell_type": "code",
   "execution_count": 0,
   "metadata": {
    "application/vnd.databricks.v1+cell": {
     "cellMetadata": {
      "byteLimit": 2048000,
      "rowLimit": 10000
     },
     "inputWidgets": {},
     "nuid": "c29acbf2-f0c6-474f-b849-ab6b578f7725",
     "showTitle": false,
     "tableResultSettingsMap": {},
     "title": ""
    }
   },
   "outputs": [],
   "source": [
    "df_old = df_old.withColumnRenamed('DimCustomerKey', 'old_DimCustomerKey') \\\n",
    "                .withColumnRenamed('customer_id', 'old_customer_id') \\\n",
    "                .withColumnRenamed('created_date','old_created_date') \\\n",
    "                .withColumnRenamed('updated_date', 'old_updated_date')\n",
    "df_old.display()"
   ]
  },
  {
   "cell_type": "markdown",
   "metadata": {
    "application/vnd.databricks.v1+cell": {
     "cellMetadata": {
      "byteLimit": 2048000,
      "rowLimit": 10000
     },
     "inputWidgets": {},
     "nuid": "497bc51b-34f5-4225-b36e-68cd868b9809",
     "showTitle": false,
     "tableResultSettingsMap": {},
     "title": ""
    }
   },
   "source": [
    "#### Applying the joins\n"
   ]
  },
  {
   "cell_type": "code",
   "execution_count": 0,
   "metadata": {
    "application/vnd.databricks.v1+cell": {
     "cellMetadata": {
      "byteLimit": 2048000,
      "rowLimit": 10000
     },
     "inputWidgets": {},
     "nuid": "55ce7e13-5033-436a-86e2-5879baddfd4c",
     "showTitle": false,
     "tableResultSettingsMap": {},
     "title": ""
    }
   },
   "outputs": [],
   "source": [
    "# When we join new data with old data, if we have nulls in old_DimCustomerKey that means it's a new record, otherwise old records appeard again with some changes(modified).\n",
    "df_join = df_customers.join(df_old, df_customers['customer_id']==df_old['old_customer_id'], 'left')\n",
    "df_join.limit(5).display()"
   ]
  },
  {
   "cell_type": "markdown",
   "metadata": {
    "application/vnd.databricks.v1+cell": {
     "cellMetadata": {
      "byteLimit": 2048000,
      "rowLimit": 10000
     },
     "inputWidgets": {},
     "nuid": "4687a6ba-38e7-416b-9f7b-58762ff6c2bc",
     "showTitle": false,
     "tableResultSettingsMap": {},
     "title": ""
    }
   },
   "source": [
    "#### Seperating New and Old Records"
   ]
  },
  {
   "cell_type": "code",
   "execution_count": 0,
   "metadata": {
    "application/vnd.databricks.v1+cell": {
     "cellMetadata": {
      "byteLimit": 2048000,
      "rowLimit": 10000
     },
     "inputWidgets": {},
     "nuid": "7700d2ee-85c5-4d0d-b3b9-5ab1ecbfb958",
     "showTitle": false,
     "tableResultSettingsMap": {},
     "title": ""
    }
   },
   "outputs": [],
   "source": [
    "df_new = df_join.filter(df_join['old_DimcustomerKey'].isNull()) # This will bring only new records\n",
    "df_old = df_join.filter(df_join['old_DimCustomerKey'].isNotNull()) # This will bring modified records"
   ]
  },
  {
   "cell_type": "code",
   "execution_count": 0,
   "metadata": {
    "application/vnd.databricks.v1+cell": {
     "cellMetadata": {
      "byteLimit": 2048000,
      "rowLimit": 10000
     },
     "inputWidgets": {},
     "nuid": "e0813d6a-9fd5-4015-9d34-8cb7ea7efdc6",
     "showTitle": false,
     "tableResultSettingsMap": {},
     "title": ""
    }
   },
   "outputs": [],
   "source": [
    "df_new.limit(5).display()"
   ]
  },
  {
   "cell_type": "code",
   "execution_count": 0,
   "metadata": {
    "application/vnd.databricks.v1+cell": {
     "cellMetadata": {
      "byteLimit": 2048000,
      "rowLimit": 10000
     },
     "inputWidgets": {},
     "nuid": "ca54191e-d680-48ae-a2e9-623ae67d6fe5",
     "showTitle": false,
     "tableResultSettingsMap": {},
     "title": ""
    }
   },
   "outputs": [],
   "source": [
    "df_old.display()"
   ]
  },
  {
   "cell_type": "markdown",
   "metadata": {
    "application/vnd.databricks.v1+cell": {
     "cellMetadata": {
      "byteLimit": 2048000,
      "rowLimit": 10000
     },
     "inputWidgets": {},
     "nuid": "6e12b00e-d594-44c6-9dae-d239b1c413ad",
     "showTitle": false,
     "tableResultSettingsMap": {},
     "title": ""
    }
   },
   "source": [
    "#### Preparing df_old"
   ]
  },
  {
   "cell_type": "code",
   "execution_count": 0,
   "metadata": {
    "application/vnd.databricks.v1+cell": {
     "cellMetadata": {
      "byteLimit": 2048000,
      "rowLimit": 10000
     },
     "inputWidgets": {},
     "nuid": "2006fae5-e0c5-40ae-aab1-95cfe59b2c1f",
     "showTitle": false,
     "tableResultSettingsMap": {},
     "title": ""
    }
   },
   "outputs": [],
   "source": [
    "# Dropping un-wanted columns\n",
    "\n",
    "# if we are doing initial_load: Then, below columns are having Nulls. \n",
    "# And, old_DimCustomerKey can be added as a surrogate key in the next step.\n",
    "# old_customer_id column is already is available as customer_id in df_new.\n",
    "# old_created_date can be added as created_date in the df_new.\n",
    "# old_updated_date is has to be updated with current timestamp. Hence, we dropped and re-added as current timestamp.\n",
    "\n",
    "# if we are doing incremental_load: \n",
    "# And, old_DimCustomerKey is already is available as DimCustomerKey in df_old.\n",
    "# old_customer_id column is already is available as customer_id in df_old.\n",
    "# old_created_date is already is available as created_date in df_old.\n",
    "# old_updated_date is already is available as \"updated_date\".It can be deleted and re-added with current timestamp.\n",
    "\n",
    "df_old = df_old.drop('old_customer_id', 'old_updated_date')\n",
    "\n",
    "\n",
    "# Renaming \"old_DimCustomerKeyand\" as \"old_DimCustomerKey\" and\"old_created_date\" as \"created_date\"\n",
    "\n",
    "df_old = df_old.withColumnRenamed('old_DimCustomerKey','DimCustomerKey') \\\n",
    "                .withColumnRenamed('old_created_date','created_date') \\\n",
    "                .withColumn('created_date', to_timestamp('created_date'))\n",
    "\n",
    "# Creating updated_date column\n",
    "df_old = df_old.withColumn('updated_date', current_timestamp())"
   ]
  },
  {
   "cell_type": "code",
   "execution_count": 0,
   "metadata": {
    "application/vnd.databricks.v1+cell": {
     "cellMetadata": {
      "byteLimit": 2048000,
      "rowLimit": 10000
     },
     "inputWidgets": {},
     "nuid": "0af07e79-ae9c-4bb5-8f01-5b97a5e1acd9",
     "showTitle": false,
     "tableResultSettingsMap": {},
     "title": ""
    }
   },
   "outputs": [],
   "source": [
    "df_old.display()"
   ]
  },
  {
   "cell_type": "markdown",
   "metadata": {
    "application/vnd.databricks.v1+cell": {
     "cellMetadata": {
      "byteLimit": 2048000,
      "rowLimit": 10000
     },
     "inputWidgets": {},
     "nuid": "198acd83-f515-4001-b995-1b2bd0af59fb",
     "showTitle": false,
     "tableResultSettingsMap": {},
     "title": ""
    }
   },
   "source": [
    "#### Preparing df_new"
   ]
  },
  {
   "cell_type": "code",
   "execution_count": 0,
   "metadata": {
    "application/vnd.databricks.v1+cell": {
     "cellMetadata": {
      "byteLimit": 2048000,
      "rowLimit": 10000
     },
     "inputWidgets": {},
     "nuid": "b01f5c15-d243-407a-923d-e80bd19ff8c0",
     "showTitle": false,
     "tableResultSettingsMap": {},
     "title": ""
    }
   },
   "outputs": [],
   "source": [
    "# We can drop all columns from suffix \"old\"\n",
    "# We need to create new columns for created_date and updated_date for the new records irresepctive of initial load and incremental load. Since, we never get these values from thr source it self.\n",
    "\n",
    "df_new = df_new.drop('old_DimCustomerKey', 'old_customer_id', 'old_created_date','old_updated_date')\n",
    "\n",
    "df_new = df_new.withColumn('created_date', current_timestamp()) \\\n",
    "                .withColumn('updated_date', current_timestamp())\n"
   ]
  },
  {
   "cell_type": "code",
   "execution_count": 0,
   "metadata": {
    "application/vnd.databricks.v1+cell": {
     "cellMetadata": {
      "byteLimit": 2048000,
      "rowLimit": 10000
     },
     "inputWidgets": {},
     "nuid": "1184c63d-420c-4537-8912-143eb8249a2a",
     "showTitle": false,
     "tableResultSettingsMap": {},
     "title": ""
    }
   },
   "outputs": [],
   "source": [
    "df_new.limit(5).display()"
   ]
  },
  {
   "cell_type": "markdown",
   "metadata": {
    "application/vnd.databricks.v1+cell": {
     "cellMetadata": {
      "byteLimit": 2048000,
      "rowLimit": 10000
     },
     "inputWidgets": {},
     "nuid": "7a96efab-a621-4230-93ba-6666e00cd9d5",
     "showTitle": false,
     "tableResultSettingsMap": {},
     "title": ""
    }
   },
   "source": [
    "## Creating Surrogate Key \n",
    "We want to start the values from 1"
   ]
  },
  {
   "cell_type": "code",
   "execution_count": 0,
   "metadata": {
    "application/vnd.databricks.v1+cell": {
     "cellMetadata": {
      "byteLimit": 2048000,
      "rowLimit": 10000
     },
     "inputWidgets": {},
     "nuid": "fd91ef47-f356-4ba6-90a6-ffa4a301439f",
     "showTitle": false,
     "tableResultSettingsMap": {},
     "title": ""
    }
   },
   "outputs": [],
   "source": [
    "df_new = df_new.withColumn('DimCustomerKey', monotonically_increasing_id()+lit(1))"
   ]
  },
  {
   "cell_type": "code",
   "execution_count": 0,
   "metadata": {
    "application/vnd.databricks.v1+cell": {
     "cellMetadata": {
      "byteLimit": 2048000,
      "rowLimit": 10000
     },
     "inputWidgets": {},
     "nuid": "2d5c3b34-a4a6-42fc-8760-18e051d4880f",
     "showTitle": false,
     "tableResultSettingsMap": {},
     "title": ""
    }
   },
   "outputs": [],
   "source": [
    "df_new.limit(5).display()"
   ]
  },
  {
   "cell_type": "markdown",
   "metadata": {
    "application/vnd.databricks.v1+cell": {
     "cellMetadata": {
      "byteLimit": 2048000,
      "rowLimit": 10000
     },
     "inputWidgets": {},
     "nuid": "42704964-9f82-4328-8014-1a4b61ab8aa9",
     "showTitle": false,
     "tableResultSettingsMap": {},
     "title": ""
    }
   },
   "source": [
    "#### Adding Max Surrogate Key"
   ]
  },
  {
   "cell_type": "code",
   "execution_count": 0,
   "metadata": {
    "application/vnd.databricks.v1+cell": {
     "cellMetadata": {
      "byteLimit": 2048000,
      "rowLimit": 10000
     },
     "inputWidgets": {},
     "nuid": "d2ba517f-83d7-4137-b99d-78223b7b3827",
     "showTitle": false,
     "tableResultSettingsMap": {},
     "title": ""
    }
   },
   "outputs": [],
   "source": [
    "if initial_load_flag_value == 1:\n",
    "    max_surrogate_value = 0\n",
    "else:\n",
    "    df_max_surrogate_value = spark.sql(''' SELECT max(DimCustomerKey) AS max_surrogate_key FROM databricks_catalog.gold.DimCustomers''')\n",
    "    max_surrogate_value = df_max_surrogate_value.collect()[0].max_surrogate_key"
   ]
  },
  {
   "cell_type": "code",
   "execution_count": 0,
   "metadata": {
    "application/vnd.databricks.v1+cell": {
     "cellMetadata": {
      "byteLimit": 2048000,
      "rowLimit": 10000
     },
     "inputWidgets": {},
     "nuid": "cce75b8a-b902-4d8e-b828-16992a970d45",
     "showTitle": false,
     "tableResultSettingsMap": {},
     "title": ""
    }
   },
   "outputs": [],
   "source": [
    "df_new = df_new.withColumn('DimCustomerKey', max_surrogate_value+col('DimCustomerKey'))"
   ]
  },
  {
   "cell_type": "markdown",
   "metadata": {
    "application/vnd.databricks.v1+cell": {
     "cellMetadata": {
      "byteLimit": 2048000,
      "rowLimit": 10000
     },
     "inputWidgets": {},
     "nuid": "61ef6809-6584-4ff9-ac69-f8b32ef01315",
     "showTitle": false,
     "tableResultSettingsMap": {},
     "title": ""
    }
   },
   "source": [
    "#### Union the df_old and df_customers(df_new)\n",
    "This union will bring new records and modified records together"
   ]
  },
  {
   "cell_type": "code",
   "execution_count": 0,
   "metadata": {
    "application/vnd.databricks.v1+cell": {
     "cellMetadata": {
      "byteLimit": 2048000,
      "rowLimit": 10000
     },
     "inputWidgets": {},
     "nuid": "4ce6fca4-3320-40d4-b7aa-64c125f9363d",
     "showTitle": false,
     "tableResultSettingsMap": {},
     "title": ""
    }
   },
   "outputs": [],
   "source": [
    "df_final = df_new.unionByName(df_old)"
   ]
  },
  {
   "cell_type": "code",
   "execution_count": 0,
   "metadata": {
    "application/vnd.databricks.v1+cell": {
     "cellMetadata": {
      "byteLimit": 2048000,
      "rowLimit": 10000
     },
     "inputWidgets": {},
     "nuid": "c4fd5c1a-74e4-4545-a2aa-6d1836b691b9",
     "showTitle": false,
     "tableResultSettingsMap": {},
     "title": ""
    }
   },
   "outputs": [],
   "source": [
    "df_final.limit(5).display()"
   ]
  },
  {
   "cell_type": "markdown",
   "metadata": {
    "application/vnd.databricks.v1+cell": {
     "cellMetadata": {
      "byteLimit": 2048000,
      "rowLimit": 10000
     },
     "inputWidgets": {},
     "nuid": "2a605d4e-3940-4331-acba-a4892ee98d4b",
     "showTitle": false,
     "tableResultSettingsMap": {},
     "title": ""
    }
   },
   "source": [
    "## SCD Type -1"
   ]
  },
  {
   "cell_type": "code",
   "execution_count": 0,
   "metadata": {
    "application/vnd.databricks.v1+cell": {
     "cellMetadata": {
      "byteLimit": 2048000,
      "rowLimit": 10000
     },
     "inputWidgets": {},
     "nuid": "b851649d-ef24-4555-815d-74030e655d4d",
     "showTitle": false,
     "tableResultSettingsMap": {},
     "title": ""
    }
   },
   "outputs": [],
   "source": [
    "from delta.tables import DeltaTable"
   ]
  },
  {
   "cell_type": "code",
   "execution_count": 0,
   "metadata": {
    "application/vnd.databricks.v1+cell": {
     "cellMetadata": {
      "byteLimit": 2048000,
      "rowLimit": 10000
     },
     "inputWidgets": {},
     "nuid": "adecf322-eca0-4e54-b4ea-8551b1b53e97",
     "showTitle": false,
     "tableResultSettingsMap": {},
     "title": ""
    }
   },
   "outputs": [],
   "source": [
    "if initial_load_flag_value == 1:\n",
    "    df_final.write.format('delta') \\\n",
    "                .mode('overwrite') \\\n",
    "                .option('path','abfss://gold@dldatabricks.dfs.core.windows.net/DimCustomers') \\\n",
    "                .saveAsTable('databricks_catalog.gold.DimCustomers')\n",
    "\n",
    "else:\n",
    "    exist_df = DeltaTable.forPath(spark, 'abfss://gold@dldatabricks.dfs.core.windows.net/DimCustomers')\n",
    "\n",
    "    exist_df.alias('trg').merge(df_final.alias('src'), \"trg.DimCustomerKey==src.DimCustomerKey\") \\\n",
    "            .whenMatchedUpdateAll()\\\n",
    "            .whenNotMatchedInsertAll()\\\n",
    "            .execute()\n"
   ]
  },
  {
   "cell_type": "code",
   "execution_count": 0,
   "metadata": {
    "application/vnd.databricks.v1+cell": {
     "cellMetadata": {
      "byteLimit": 2048000,
      "rowLimit": 10000
     },
     "inputWidgets": {},
     "nuid": "5ec88a53-8fcc-4a15-b9e3-014606c024f8",
     "showTitle": false,
     "tableResultSettingsMap": {},
     "title": ""
    }
   },
   "outputs": [],
   "source": [
    "# if spark.catalog.tableExists(\"databricks_catalog.gold.DimCustomers\"):\n",
    "\n",
    "#     exist_df = DeltaTable.forPath(spark, 'abfss://gold@dldatabricks.dfs.core.windows.net/DimCustomers')\n",
    "\n",
    "#     exist_df.alias('trg').merge(df_final.alias('src'), \"trg.DimCustomerKey==src.DimCustomerKey\") \\\n",
    "#             .whenMatchedUpdateAll()\\\n",
    "#             .whenNotMatchedInsertAll()\\\n",
    "#             .execute()\n",
    "\n",
    "# else:\n",
    "\n",
    "#     df_final.write.format('delta') \\\n",
    "#         .mode('overwrite') \\\n",
    "#         .option('path','abfss://gold@dldatabricks.dfs.core.windows.net/Dimcustomers') \\\n",
    "#         .saveAsTable('databricks_catalog.gold.DimCustomers')\n",
    "\n"
   ]
  },
  {
   "cell_type": "code",
   "execution_count": 0,
   "metadata": {
    "application/vnd.databricks.v1+cell": {
     "cellMetadata": {
      "byteLimit": 2048000,
      "rowLimit": 10000
     },
     "inputWidgets": {},
     "nuid": "1ef596de-087c-425d-aaad-c4e6bd2d9fcc",
     "showTitle": false,
     "tableResultSettingsMap": {},
     "title": ""
    }
   },
   "outputs": [],
   "source": [
    "df_test = spark.sql(\" SELECT * FROM databricks_catalog.gold.DimCustomers\")\n",
    "df_test.display()\n"
   ]
  },
  {
   "cell_type": "code",
   "execution_count": 0,
   "metadata": {
    "application/vnd.databricks.v1+cell": {
     "cellMetadata": {
      "byteLimit": 2048000,
      "rowLimit": 10000
     },
     "inputWidgets": {},
     "nuid": "4cf898c4-1819-46e8-8e85-170f403339dc",
     "showTitle": false,
     "tableResultSettingsMap": {},
     "title": ""
    }
   },
   "outputs": [],
   "source": []
  }
 ],
 "metadata": {
  "application/vnd.databricks.v1+notebook": {
   "computePreferences": null,
   "dashboards": [],
   "environmentMetadata": {
    "base_environment": "",
    "environment_version": "2"
   },
   "inputWidgetPreferences": null,
   "language": "python",
   "notebookMetadata": {
    "mostRecentlyExecutedCommandWithImplicitDF": {
     "commandId": 4795462754716879,
     "dataframes": [
      "_sqldf"
     ]
    },
    "pythonIndentUnit": 4
   },
   "notebookName": "gold_customers",
   "widgets": {
    "initial_load_flag": {
     "currentValue": "0",
     "nuid": "96519c40-96a7-4723-8cf4-7d3a5afaab6d",
     "typedWidgetInfo": {
      "autoCreated": false,
      "defaultValue": "",
      "label": "",
      "name": "initial_load_flag",
      "options": {
       "widgetDisplayType": "Text",
       "validationRegex": null
      },
      "parameterDataType": "String"
     },
     "widgetInfo": {
      "widgetType": "text",
      "defaultValue": "",
      "label": "",
      "name": "initial_load_flag",
      "options": {
       "widgetType": "text",
       "autoCreated": false,
       "validationRegex": null
      }
     }
    }
   }
  },
  "language_info": {
   "name": "python"
  }
 },
 "nbformat": 4,
 "nbformat_minor": 0
}
